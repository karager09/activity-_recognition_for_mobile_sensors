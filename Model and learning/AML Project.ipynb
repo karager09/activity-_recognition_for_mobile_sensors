{
 "cells": [
  {
   "cell_type": "markdown",
   "metadata": {},
   "source": [
    "First we need to extrac data from sqlite database."
   ]
  },
  {
   "cell_type": "code",
   "execution_count": 1,
   "metadata": {},
   "outputs": [],
   "source": [
    "def get_data_from_file(db_file):\n",
    "    import sqlite3\n",
    "    \n",
    "    conn = None\n",
    "    try:\n",
    "        conn = sqlite3.connect(db_file)\n",
    "        cur = conn.cursor()\n",
    "        cur.execute(\"SELECT * FROM accelerometer_data\")\n",
    "        rows = cur.fetchall()\n",
    "        conn.close()\n",
    "        return rows\n",
    "    except Error as e:\n",
    "        print(e)\n",
    "        return None"
   ]
  },
  {
   "cell_type": "code",
   "execution_count": 2,
   "metadata": {},
   "outputs": [],
   "source": [
    "data = get_data_from_file('../accelerometer_data.db')"
   ]
  },
  {
   "cell_type": "code",
   "execution_count": 86,
   "metadata": {},
   "outputs": [
    {
     "data": {
      "text/html": [
       "<div>\n",
       "<style scoped>\n",
       "    .dataframe tbody tr th:only-of-type {\n",
       "        vertical-align: middle;\n",
       "    }\n",
       "\n",
       "    .dataframe tbody tr th {\n",
       "        vertical-align: top;\n",
       "    }\n",
       "\n",
       "    .dataframe thead th {\n",
       "        text-align: right;\n",
       "    }\n",
       "</style>\n",
       "<table border=\"1\" class=\"dataframe\">\n",
       "  <thead>\n",
       "    <tr style=\"text-align: right;\">\n",
       "      <th></th>\n",
       "      <th>coor_x</th>\n",
       "      <th>coor_y</th>\n",
       "      <th>coor_z</th>\n",
       "      <th>timestamp</th>\n",
       "      <th>activity</th>\n",
       "    </tr>\n",
       "  </thead>\n",
       "  <tbody>\n",
       "    <tr>\n",
       "      <td>0</td>\n",
       "      <td>-0.951695</td>\n",
       "      <td>0.171185</td>\n",
       "      <td>9.878476</td>\n",
       "      <td>1574612512112</td>\n",
       "      <td>RUNNING</td>\n",
       "    </tr>\n",
       "    <tr>\n",
       "      <td>1</td>\n",
       "      <td>-0.954089</td>\n",
       "      <td>0.155623</td>\n",
       "      <td>9.865308</td>\n",
       "      <td>1574612512246</td>\n",
       "      <td>RUNNING</td>\n",
       "    </tr>\n",
       "    <tr>\n",
       "      <td>2</td>\n",
       "      <td>-0.958878</td>\n",
       "      <td>0.158017</td>\n",
       "      <td>9.860519</td>\n",
       "      <td>1574612512379</td>\n",
       "      <td>RUNNING</td>\n",
       "    </tr>\n",
       "    <tr>\n",
       "      <td>3</td>\n",
       "      <td>-0.957681</td>\n",
       "      <td>0.166397</td>\n",
       "      <td>9.859323</td>\n",
       "      <td>1574612512512</td>\n",
       "      <td>RUNNING</td>\n",
       "    </tr>\n",
       "    <tr>\n",
       "      <td>4</td>\n",
       "      <td>-0.950498</td>\n",
       "      <td>0.161609</td>\n",
       "      <td>9.861717</td>\n",
       "      <td>1574612512646</td>\n",
       "      <td>RUNNING</td>\n",
       "    </tr>\n",
       "  </tbody>\n",
       "</table>\n",
       "</div>"
      ],
      "text/plain": [
       "     coor_x    coor_y    coor_z      timestamp activity\n",
       "0 -0.951695  0.171185  9.878476  1574612512112  RUNNING\n",
       "1 -0.954089  0.155623  9.865308  1574612512246  RUNNING\n",
       "2 -0.958878  0.158017  9.860519  1574612512379  RUNNING\n",
       "3 -0.957681  0.166397  9.859323  1574612512512  RUNNING\n",
       "4 -0.950498  0.161609  9.861717  1574612512646  RUNNING"
      ]
     },
     "execution_count": 86,
     "metadata": {},
     "output_type": "execute_result"
    }
   ],
   "source": [
    "import pandas as pd\n",
    "df = pd.DataFrame(data, columns = ['id', 'coor_x', 'coor_y', 'coor_z', 'timestamp', 'activity'])\n",
    "df = df.drop(columns = ['id'])\n",
    "df.head()"
   ]
  },
  {
   "cell_type": "code",
   "execution_count": 15,
   "metadata": {},
   "outputs": [],
   "source": [
    "import sys\n",
    "# sys.path.append('../') #the ROCKET project is in parent directory\n",
    "\n",
    "from rocket_master.code.rocket_functions import generate_kernels, apply_kernels"
   ]
  },
  {
   "cell_type": "code",
   "execution_count": null,
   "metadata": {
    "scrolled": false
   },
   "outputs": [],
   "source": [
    "#normalise\n",
    "from sklearn.preprocessing import StandardScaler\n",
    "scaler = StandardScaler()\n",
    "df[['coor_x', 'coor_y', 'coor_z']] = scaler.fit_transform(df[['coor_x', 'coor_y', 'coor_z']])\n",
    "df[['coor_x', 'coor_y', 'coor_z']]"
   ]
  },
  {
   "cell_type": "code",
   "execution_count": 88,
   "metadata": {},
   "outputs": [],
   "source": [
    "#split data\n",
    "factor = 0.8\n",
    "x_train = df[0:int(len(df) * factor)][['coor_x', 'coor_y', 'coor_z']]\n",
    "y_train = df[0:int(len(df) * factor)][['activity']]\n",
    "x_test = df[int(len(df) * factor):][['coor_x', 'coor_y', 'coor_z']]\n",
    "y_test = df[int(len(df) * factor):][['activity']]"
   ]
  },
  {
   "cell_type": "code",
   "execution_count": 163,
   "metadata": {},
   "outputs": [],
   "source": [
    "# (1) generate random kernels\n",
    "kernels = generate_kernels(input_length = x_train.shape[1], num_kernels = 10_000)"
   ]
  },
  {
   "cell_type": "code",
   "execution_count": 165,
   "metadata": {},
   "outputs": [
    {
     "data": {
      "text/plain": [
       "array([-0.16777279, -0.04507909, -1.03198053, -0.08542557, -0.28644632,\n",
       "        1.25098051,  0.45798593,  0.11767727, -0.20993942,  0.        ,\n",
       "        0.        ])"
      ]
     },
     "execution_count": 165,
     "metadata": {},
     "output_type": "execute_result"
    }
   ],
   "source": [
    "kernels[0][100] #in form: weights, lengths, biases, dilations, paddings"
   ]
  },
  {
   "cell_type": "code",
   "execution_count": 178,
   "metadata": {},
   "outputs": [
    {
     "data": {
      "text/plain": [
       "20000"
      ]
     },
     "execution_count": 178,
     "metadata": {},
     "output_type": "execute_result"
    }
   ],
   "source": [
    "x_train_transform = apply_kernels(x_train.to_numpy(), kernels)\n",
    "x_train_transform[0]"
   ]
  },
  {
   "cell_type": "code",
   "execution_count": 96,
   "metadata": {},
   "outputs": [
    {
     "name": "stderr",
     "output_type": "stream",
     "text": [
      "d:\\programy10\\python\\python37\\lib\\site-packages\\sklearn\\linear_model\\ridge.py:1806: DataConversionWarning: A column-vector y was passed when a 1d array was expected. Please change the shape of y to (n_samples, ), for example using ravel().\n",
      "  y = column_or_1d(y, warn=True)\n"
     ]
    },
    {
     "data": {
      "text/plain": [
       "RidgeClassifierCV(alphas=array([1.00000000e-03, 4.64158883e-03, 2.15443469e-02, 1.00000000e-01,\n",
       "       4.64158883e-01, 2.15443469e+00, 1.00000000e+01, 4.64158883e+01,\n",
       "       2.15443469e+02, 1.00000000e+03]),\n",
       "                  class_weight=None, cv=None, fit_intercept=True,\n",
       "                  normalize=True, scoring=None, store_cv_values=False)"
      ]
     },
     "execution_count": 96,
     "metadata": {},
     "output_type": "execute_result"
    }
   ],
   "source": [
    "import numpy as np\n",
    "from sklearn.linear_model import RidgeClassifierCV\n",
    "\n",
    "classifier = RidgeClassifierCV(alphas = np.logspace(-3, 3, 10), normalize = True)\n",
    "classifier.fit(x_train_transform, y_train.to_numpy())\n",
    "\n",
    "# print(end = \"\") # suppress print output of classifier.fit(...)"
   ]
  },
  {
   "cell_type": "code",
   "execution_count": 98,
   "metadata": {},
   "outputs": [],
   "source": [
    "x_test_transform = apply_kernels(x_test.to_numpy(), kernels)"
   ]
  },
  {
   "cell_type": "code",
   "execution_count": 114,
   "metadata": {},
   "outputs": [
    {
     "name": "stdout",
     "output_type": "stream",
     "text": [
      "predictions = WALKING, WALKING, RUNNING, WALKING, WALKING, WALKING, RUNNING, WALKING, RUNNING, RUNNING, RUNNING, RUNNING, RUNNING, RUNNING, RUNNING, RUNNING, WALKING, WALKING, WALKING, WALKING, WALKING, WALKING, STAYING, RUNNING, WALKING, WALKING, RUNNING, RUNNING, WALKING\n",
      "accuracy    = 0.034482758620689655\n"
     ]
    }
   ],
   "source": [
    "predictions = classifier.predict(x_test_transform)\n",
    "\n",
    "print(f\"predictions = {', '.join(predictions.astype(str))}\")\n",
    "print(f\"accuracy    = {(predictions == y_test['activity']).mean()}\") # or classifier.score(X_test_transform, Y_test)"
   ]
  }
 ],
 "metadata": {
  "kernelspec": {
   "display_name": "Python 3",
   "language": "python",
   "name": "python3"
  },
  "language_info": {
   "codemirror_mode": {
    "name": "ipython",
    "version": 3
   },
   "file_extension": ".py",
   "mimetype": "text/x-python",
   "name": "python",
   "nbconvert_exporter": "python",
   "pygments_lexer": "ipython3",
   "version": "3.7.3"
  }
 },
 "nbformat": 4,
 "nbformat_minor": 2
}
